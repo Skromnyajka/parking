{
 "cells": [
  {
   "cell_type": "code",
   "execution_count": null,
   "metadata": {},
   "outputs": [],
   "source": [
    "# Выгрузка библиотек для работы с данными и анализа\n",
    "import pandas as pd\n",
    "import numpy as np\n",
    "import seaborn as sns\n",
    "\n",
    "from matplotlib import pyplot as plt"
   ]
  },
  {
   "cell_type": "code",
   "execution_count": null,
   "metadata": {},
   "outputs": [],
   "source": [
    "# Выгружаем датафреймы\n",
    "df = pd.read_csv('train.csv')\n",
    "df_valid = pd.read_csv('valid.csv')\n",
    "\n",
    "# Команда для отображения всех колонок в датафреймах\n",
    "pd.set_option('display.max_columns', None)"
   ]
  },
  {
   "cell_type": "code",
   "execution_count": null,
   "metadata": {},
   "outputs": [],
   "source": [
    "# Удаление колонок при 30% пропусков\n",
    "columns_to_drop = []\n",
    "\n",
    "for col in df.columns:\n",
    "    if df[col].isna().sum() >= len(df[col])*0.3:\n",
    "        columns_to_drop.append(col)\n",
    "    \n",
    "    if df_valid[col].isna().sum() >= len(df_valid[col])*0.3:\n",
    "        columns_to_drop.append(col)\n",
    "\n",
    "columns_to_drop = list(set(columns_to_drop))\n",
    "\n",
    "df.drop(columns = columns_to_drop, inplace = True)\n",
    "df_valid.drop(columns = columns_to_drop, inplace = True)"
   ]
  },
  {
   "cell_type": "code",
   "execution_count": null,
   "metadata": {},
   "outputs": [],
   "source": [
    "# Удаление колонки id\n",
    "df.drop('col1454', axis=1, inplace=True)\n",
    "df_valid.drop('col1454', axis=1, inplace=True)"
   ]
  },
  {
   "cell_type": "code",
   "execution_count": null,
   "metadata": {},
   "outputs": [],
   "source": [
    "# Импорт необходимых библиотек для построение модели\n",
    "from sklearn.model_selection import train_test_split, GridSearchCV\n",
    "from sklearn.preprocessing import StandardScaler, OneHotEncoder\n",
    "from sklearn.ensemble import RandomForestClassifier\n",
    "from sklearn.pipeline import Pipeline\n",
    "from sklearn.compose import ColumnTransformer\n",
    "from sklearn.impute import SimpleImputer  # Импорт для обработки пропущенных значений\n",
    "from sklearn.metrics import accuracy_score, confusion_matrix, precision_score, recall_score, f1_score, roc_auc_score, classification_report\n",
    "from imblearn.over_sampling import SMOTE\n",
    "from imblearn.pipeline import Pipeline as ImbPipeline  # Для использования SMOTE в пайплайне"
   ]
  },
  {
   "cell_type": "code",
   "execution_count": null,
   "metadata": {},
   "outputs": [],
   "source": [
    "# Разделение данных на признаки и целевую переменную\n",
    "X = df.drop('target', axis=1)\n",
    "y = df['target']\n",
    "\n",
    "X_train, X_test, y_train, y_test = train_test_split(\n",
    "    X, y, \n",
    "    test_size=0.2, \n",
    "    random_state=42, \n",
    "    stratify=y\n",
    ")\n",
    "\n",
    "X_valid = df_valid.drop('target', axis=1)\n",
    "y_valid = df_valid['target']"
   ]
  },
  {
   "cell_type": "code",
   "execution_count": null,
   "metadata": {},
   "outputs": [],
   "source": [
    "# Преобразуем столбец 'report_date' в числовой формат\n",
    "def convert_dates(X):\n",
    "    if 'report_date' in X.columns:\n",
    "        X['report_date'] = pd.to_datetime(X['report_date']).astype(int) / 10**9  # Преобразуем в секунды с эпохи\n",
    "    return X\n",
    "\n",
    "# Применяем функцию к данным\n",
    "X_train = convert_dates(X_train)\n",
    "X_test = convert_dates(X_test)\n",
    "X_valid = convert_dates(X_valid)\n",
    "\n",
    "# Определение числовых и категориальных столбцов\n",
    "numeric_features = X_train.select_dtypes(include=['int64', 'float64']).columns\n",
    "categorical_features = X_train.select_dtypes(include=['object', 'category']).columns\n",
    "\n",
    "# Препроцессинг данных\n",
    "# Добавляем SimpleImputer для обработки пропущенных значений\n",
    "numeric_transformer = Pipeline(steps=[\n",
    "    ('imputer', SimpleImputer(strategy='median')),  # Заполнение пропущенных значений медианой\n",
    "    ('scaler', StandardScaler())  # Стандартизация числовых признаков\n",
    "])\n",
    "\n",
    "categorical_transformer = Pipeline(steps=[\n",
    "    ('imputer', SimpleImputer(strategy='most_frequent')),  # Заполнение пропущенных значений наиболее часто встречающимся значением\n",
    "    ('onehot', OneHotEncoder(handle_unknown='ignore'))  # One-Hot Encoding для категориальных признаков\n",
    "])\n",
    "\n",
    "preprocessor = ColumnTransformer(\n",
    "    transformers=[\n",
    "        ('num', numeric_transformer, numeric_features),\n",
    "        ('cat', categorical_transformer, categorical_features)\n",
    "    ]\n",
    ")"
   ]
  },
  {
   "cell_type": "code",
   "execution_count": null,
   "metadata": {},
   "outputs": [],
   "source": [
    "# # Создание пайплайна с SMOTE и классификатором\n",
    "# pipeline = ImbPipeline(steps=[\n",
    "#     ('preprocessor', preprocessor),  # Препроцессинг данных\n",
    "#     ('smote', SMOTE(random_state=42)),  # Балансировка классов с использованием SMOTE\n",
    "#     ('classifier', RandomForestClassifier(random_state=0))  # Классификатор\n",
    "# ])\n",
    "\n",
    "# # Определение сетки гиперпараметров\n",
    "# param_grid = {\n",
    "#     'classifier__n_estimators': [100, 200, 300],\n",
    "#     'classifier__max_depth': [None, 10, 20, 30],\n",
    "#     'classifier__min_samples_split': [2, 5, 10],\n",
    "#     'classifier__min_samples_leaf': [1, 2, 4],\n",
    "#     'classifier__max_features': ['sqrt', 'log2', None]\n",
    "# }\n",
    "\n",
    "# # Поиск гиперпараметров с использованием GridSearchCV\n",
    "# grid_search = GridSearchCV(pipeline, param_grid, scoring='roc_auc', cv=3, n_jobs=-1)\n",
    "# grid_search.fit(X_train, y_train)\n",
    "\n",
    "# # Лучшие гиперпараметры\n",
    "# best_params = grid_search.best_params_\n",
    "# print(\"Best parameters found:\", best_params)\n",
    "# # >> {'max_depth': 30, 'max_features': 'sqrt', 'min_samples_leaf': 1, 'min_samples_split': 2, 'n_estimators': 300}"
   ]
  },
  {
   "cell_type": "code",
   "execution_count": null,
   "metadata": {},
   "outputs": [],
   "source": [
    "# # Обучение модели с лучшими гиперпараметрами\n",
    "# best_rf = grid_search.best_estimator_\n",
    "\n",
    "# # Оценка модели на тестовых данных\n",
    "# y_pred = best_rf.predict(X_test)\n",
    "# y_pred_proba = best_rf.predict_proba(X_test)[:, 1]"
   ]
  },
  {
   "cell_type": "code",
   "execution_count": null,
   "metadata": {},
   "outputs": [],
   "source": [
    "best_params = {'max_depth': 30, 'max_features': 'sqrt', 'min_samples_leaf': 1, 'min_samples_split': 2, 'n_estimators': 300}\n",
    "\n",
    "# Создание пайплайна с SMOTE и классификатором\n",
    "best_rf = ImbPipeline(steps=[\n",
    "    ('preprocessor', preprocessor),  # Препроцессинг данных\n",
    "    ('smote', SMOTE(random_state=42)),  # Балансировка классов с использованием SMOTE\n",
    "    ('classifier', RandomForestClassifier(random_state=0, **best_params))  # Классификатор\n",
    "])\n",
    "\n",
    "# Обучение модели с лучшими гиперпараметрами\n",
    "best_rf.fit(X_train, y_train)"
   ]
  },
  {
   "cell_type": "code",
   "execution_count": null,
   "metadata": {},
   "outputs": [],
   "source": [
    "# Оценка модели на тестовых данных\n",
    "y_pred = best_rf.predict(X_test)\n",
    "y_pred_proba = best_rf.predict_proba(X_test)[:, 1]\n",
    "\n",
    "# Вывод метрик\n",
    "print(\"Точность (Accuracy):\", accuracy_score(y_test, y_pred))\n",
    "print(\"Матрица ошибок (Confusion Matrix):\\n\", confusion_matrix(y_test, y_pred))\n",
    "print(\"Точность (Precision):\", precision_score(y_test, y_pred, average='weighted', zero_division=0))\n",
    "print(\"Полнота (Recall):\", recall_score(y_test, y_pred, average='weighted'))\n",
    "print(\"F1-мера (F1-score):\", f1_score(y_test, y_pred, average='weighted'))\n",
    "print(\"ROC-AUC (для бинарной классификации):\", roc_auc_score(y_test, y_pred_proba))\n",
    "print(\"Отчет о классификации:\\n\", classification_report(y_test, y_pred, zero_division=0))"
   ]
  },
  {
   "cell_type": "code",
   "execution_count": null,
   "metadata": {},
   "outputs": [],
   "source": [
    "# Оценка модели на валидационных данных\n",
    "y_pred_v = best_rf.predict(X_valid)\n",
    "y_pred_proba_v = best_rf.predict_proba(X_valid)[:, 1]\n",
    "\n",
    "# Вывод метрик\n",
    "print(\"Точность (Accuracy):\", accuracy_score(y_valid, y_pred_v))\n",
    "print(\"Матрица ошибок (Confusion Matrix):\\n\", confusion_matrix(y_valid, y_pred_v))\n",
    "print(\"Точность (Precision):\", precision_score(y_valid, y_pred_v, average='weighted', zero_division=0))\n",
    "print(\"Полнота (Recall):\", recall_score(y_valid, y_pred_v, average='weighted'))\n",
    "print(\"F1-мера (F1-score):\", f1_score(y_valid, y_pred_v, average='weighted'))\n",
    "print(\"ROC-AUC (для бинарной классификации):\", roc_auc_score(y_valid, y_pred_proba_v))\n",
    "print(\"Отчет о классификации:\\n\", classification_report(y_valid, y_pred_v, zero_division=0))"
   ]
  }
 ],
 "metadata": {
  "kernelspec": {
   "display_name": "env",
   "language": "python",
   "name": "python3"
  },
  "language_info": {
   "name": "python",
   "version": "3.12.8"
  }
 },
 "nbformat": 4,
 "nbformat_minor": 2
}
